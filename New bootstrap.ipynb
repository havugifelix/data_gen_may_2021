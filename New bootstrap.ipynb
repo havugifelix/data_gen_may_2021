{
 "cells": [
  {
   "cell_type": "code",
   "execution_count": 1,
   "metadata": {},
   "outputs": [
    {
     "name": "stderr",
     "output_type": "stream",
     "text": [
      "/home/kashraf/anaconda3/lib/python3.7/site-packages/mne/utils/docs.py:824: DeprecationWarning: Function read_montage is deprecated; ``read_montage`` is deprecated and will be removed in v0.20. Please use ``read_dig_fif``, ``read_dig_egi``, ``read_custom_montage``, or ``read_dig_captrack`` to read a digitization based on your needs instead; or ``make_standard_montage`` to create ``DigMontage`` based on template; or ``make_dig_montage`` to create a ``DigMontage`` out of np.arrays\n",
      "  warnings.warn(msg, category=DeprecationWarning)\n",
      "/home/kashraf/anaconda3/lib/python3.7/site-packages/mne/utils/docs.py:807: DeprecationWarning: Class Montage is deprecated; Montage class is deprecated and will be removed in v0.20. Please use DigMontage instead.\n",
      "  warnings.warn(msg, category=DeprecationWarning)\n",
      "  0%|          | 0/11 [00:00<?, ?it/s]<ipython-input-1-a5af071fa5c2>:17: RuntimeWarning:   Could not parse meas date from the header. Setting to None.\n",
      "  files=mne.io.read_raw_cnt(file_path+\"/\"+file,montage=montage, preload=True,verbose=False);\n",
      "<ipython-input-1-a5af071fa5c2>:17: DeprecationWarning: Setting a montage using anything rather than DigMontage is deprecated and will raise an error in v0.20. Please use ``read_dig_fif``, ``read_dig_egi``, ``read_dig_polhemus_isotrak``, or ``read_dig_captrack`` ``read_dig_hpts``, ``read_dig_captrack`` or ``read_custom_montage`` to read a digitization based on your needs instead; or ``make_standard_montage`` to create ``DigMontage`` based on template; or ``make_dig_montage`` to create a ``DigMontage`` out of np.arrays.\n",
      "  files=mne.io.read_raw_cnt(file_path+\"/\"+file,montage=montage, preload=True,verbose=False);\n",
      "<ipython-input-1-a5af071fa5c2>:17: RuntimeWarning: The following EEG sensors did not have a position specified in the selected montage: ['VEO', 'HEO', 'EKG', 'EMG', 'Trigger']. Their position has been left untouched.\n",
      "  files=mne.io.read_raw_cnt(file_path+\"/\"+file,montage=montage, preload=True,verbose=False);\n",
      "<ipython-input-1-a5af071fa5c2>:17: DeprecationWarning: The `montage` parameter from `read_raw_cnt` is deprecated and will be removed  in version 0.20. Use  raw.set_montage(montage) instead.\n",
      "  files=mne.io.read_raw_cnt(file_path+\"/\"+file,montage=montage, preload=True,verbose=False);\n",
      "  9%|▉         | 1/11 [00:02<00:20,  2.08s/it]<ipython-input-1-a5af071fa5c2>:17: RuntimeWarning:   Could not parse meas date from the header. Setting to None.\n",
      "  files=mne.io.read_raw_cnt(file_path+\"/\"+file,montage=montage, preload=True,verbose=False);\n",
      "<ipython-input-1-a5af071fa5c2>:17: DeprecationWarning: Setting a montage using anything rather than DigMontage is deprecated and will raise an error in v0.20. Please use ``read_dig_fif``, ``read_dig_egi``, ``read_dig_polhemus_isotrak``, or ``read_dig_captrack`` ``read_dig_hpts``, ``read_dig_captrack`` or ``read_custom_montage`` to read a digitization based on your needs instead; or ``make_standard_montage`` to create ``DigMontage`` based on template; or ``make_dig_montage`` to create a ``DigMontage`` out of np.arrays.\n",
      "  files=mne.io.read_raw_cnt(file_path+\"/\"+file,montage=montage, preload=True,verbose=False);\n",
      "<ipython-input-1-a5af071fa5c2>:17: RuntimeWarning: The following EEG sensors did not have a position specified in the selected montage: ['VEO', 'HEO', 'EKG', 'EMG', 'Trigger']. Their position has been left untouched.\n",
      "  files=mne.io.read_raw_cnt(file_path+\"/\"+file,montage=montage, preload=True,verbose=False);\n",
      "<ipython-input-1-a5af071fa5c2>:17: DeprecationWarning: The `montage` parameter from `read_raw_cnt` is deprecated and will be removed  in version 0.20. Use  raw.set_montage(montage) instead.\n",
      "  files=mne.io.read_raw_cnt(file_path+\"/\"+file,montage=montage, preload=True,verbose=False);\n",
      " 18%|█▊        | 2/11 [00:04<00:18,  2.07s/it]<ipython-input-1-a5af071fa5c2>:17: RuntimeWarning:   Could not parse meas date from the header. Setting to None.\n",
      "  files=mne.io.read_raw_cnt(file_path+\"/\"+file,montage=montage, preload=True,verbose=False);\n",
      "<ipython-input-1-a5af071fa5c2>:17: DeprecationWarning: Setting a montage using anything rather than DigMontage is deprecated and will raise an error in v0.20. Please use ``read_dig_fif``, ``read_dig_egi``, ``read_dig_polhemus_isotrak``, or ``read_dig_captrack`` ``read_dig_hpts``, ``read_dig_captrack`` or ``read_custom_montage`` to read a digitization based on your needs instead; or ``make_standard_montage`` to create ``DigMontage`` based on template; or ``make_dig_montage`` to create a ``DigMontage`` out of np.arrays.\n",
      "  files=mne.io.read_raw_cnt(file_path+\"/\"+file,montage=montage, preload=True,verbose=False);\n",
      "<ipython-input-1-a5af071fa5c2>:17: RuntimeWarning: The following EEG sensors did not have a position specified in the selected montage: ['VEO', 'HEO', 'EKG', 'EMG', 'Trigger']. Their position has been left untouched.\n",
      "  files=mne.io.read_raw_cnt(file_path+\"/\"+file,montage=montage, preload=True,verbose=False);\n",
      "<ipython-input-1-a5af071fa5c2>:17: DeprecationWarning: The `montage` parameter from `read_raw_cnt` is deprecated and will be removed  in version 0.20. Use  raw.set_montage(montage) instead.\n",
      "  files=mne.io.read_raw_cnt(file_path+\"/\"+file,montage=montage, preload=True,verbose=False);\n",
      " 27%|██▋       | 3/11 [00:06<00:16,  2.09s/it]<ipython-input-1-a5af071fa5c2>:17: DeprecationWarning: Setting a montage using anything rather than DigMontage is deprecated and will raise an error in v0.20. Please use ``read_dig_fif``, ``read_dig_egi``, ``read_dig_polhemus_isotrak``, or ``read_dig_captrack`` ``read_dig_hpts``, ``read_dig_captrack`` or ``read_custom_montage`` to read a digitization based on your needs instead; or ``make_standard_montage`` to create ``DigMontage`` based on template; or ``make_dig_montage`` to create a ``DigMontage`` out of np.arrays.\n",
      "  files=mne.io.read_raw_cnt(file_path+\"/\"+file,montage=montage, preload=True,verbose=False);\n",
      "<ipython-input-1-a5af071fa5c2>:17: RuntimeWarning: The following EEG sensors did not have a position specified in the selected montage: ['VEO', 'HEO', 'EKG', 'EMG', 'Trigger']. Their position has been left untouched.\n",
      "  files=mne.io.read_raw_cnt(file_path+\"/\"+file,montage=montage, preload=True,verbose=False);\n",
      "<ipython-input-1-a5af071fa5c2>:17: DeprecationWarning: The `montage` parameter from `read_raw_cnt` is deprecated and will be removed  in version 0.20. Use  raw.set_montage(montage) instead.\n",
      "  files=mne.io.read_raw_cnt(file_path+\"/\"+file,montage=montage, preload=True,verbose=False);\n",
      " 36%|███▋      | 4/11 [00:08<00:14,  2.04s/it]<ipython-input-1-a5af071fa5c2>:17: RuntimeWarning:   Could not parse meas date from the header. Setting to None.\n",
      "  files=mne.io.read_raw_cnt(file_path+\"/\"+file,montage=montage, preload=True,verbose=False);\n",
      "<ipython-input-1-a5af071fa5c2>:17: DeprecationWarning: Setting a montage using anything rather than DigMontage is deprecated and will raise an error in v0.20. Please use ``read_dig_fif``, ``read_dig_egi``, ``read_dig_polhemus_isotrak``, or ``read_dig_captrack`` ``read_dig_hpts``, ``read_dig_captrack`` or ``read_custom_montage`` to read a digitization based on your needs instead; or ``make_standard_montage`` to create ``DigMontage`` based on template; or ``make_dig_montage`` to create a ``DigMontage`` out of np.arrays.\n",
      "  files=mne.io.read_raw_cnt(file_path+\"/\"+file,montage=montage, preload=True,verbose=False);\n",
      "<ipython-input-1-a5af071fa5c2>:17: RuntimeWarning: The following EEG sensors did not have a position specified in the selected montage: ['VEO', 'HEO', 'EKG', 'EMG', 'Trigger']. Their position has been left untouched.\n",
      "  files=mne.io.read_raw_cnt(file_path+\"/\"+file,montage=montage, preload=True,verbose=False);\n",
      "<ipython-input-1-a5af071fa5c2>:17: DeprecationWarning: The `montage` parameter from `read_raw_cnt` is deprecated and will be removed  in version 0.20. Use  raw.set_montage(montage) instead.\n",
      "  files=mne.io.read_raw_cnt(file_path+\"/\"+file,montage=montage, preload=True,verbose=False);\n",
      " 45%|████▌     | 5/11 [00:10<00:12,  2.04s/it]<ipython-input-1-a5af071fa5c2>:17: RuntimeWarning:   Could not parse meas date from the header. Setting to None.\n",
      "  files=mne.io.read_raw_cnt(file_path+\"/\"+file,montage=montage, preload=True,verbose=False);\n",
      "<ipython-input-1-a5af071fa5c2>:17: DeprecationWarning: Setting a montage using anything rather than DigMontage is deprecated and will raise an error in v0.20. Please use ``read_dig_fif``, ``read_dig_egi``, ``read_dig_polhemus_isotrak``, or ``read_dig_captrack`` ``read_dig_hpts``, ``read_dig_captrack`` or ``read_custom_montage`` to read a digitization based on your needs instead; or ``make_standard_montage`` to create ``DigMontage`` based on template; or ``make_dig_montage`` to create a ``DigMontage`` out of np.arrays.\n",
      "  files=mne.io.read_raw_cnt(file_path+\"/\"+file,montage=montage, preload=True,verbose=False);\n",
      "<ipython-input-1-a5af071fa5c2>:17: RuntimeWarning: The following EEG sensors did not have a position specified in the selected montage: ['VEO', 'HEO', 'EKG', 'EMG', 'Trigger']. Their position has been left untouched.\n",
      "  files=mne.io.read_raw_cnt(file_path+\"/\"+file,montage=montage, preload=True,verbose=False);\n",
      "<ipython-input-1-a5af071fa5c2>:17: DeprecationWarning: The `montage` parameter from `read_raw_cnt` is deprecated and will be removed  in version 0.20. Use  raw.set_montage(montage) instead.\n",
      "  files=mne.io.read_raw_cnt(file_path+\"/\"+file,montage=montage, preload=True,verbose=False);\n"
     ]
    },
    {
     "name": "stderr",
     "output_type": "stream",
     "text": [
      " 55%|█████▍    | 6/11 [00:12<00:10,  2.05s/it]<ipython-input-1-a5af071fa5c2>:17: DeprecationWarning: Setting a montage using anything rather than DigMontage is deprecated and will raise an error in v0.20. Please use ``read_dig_fif``, ``read_dig_egi``, ``read_dig_polhemus_isotrak``, or ``read_dig_captrack`` ``read_dig_hpts``, ``read_dig_captrack`` or ``read_custom_montage`` to read a digitization based on your needs instead; or ``make_standard_montage`` to create ``DigMontage`` based on template; or ``make_dig_montage`` to create a ``DigMontage`` out of np.arrays.\n",
      "  files=mne.io.read_raw_cnt(file_path+\"/\"+file,montage=montage, preload=True,verbose=False);\n",
      "<ipython-input-1-a5af071fa5c2>:17: RuntimeWarning: The following EEG sensors did not have a position specified in the selected montage: ['VEO', 'HEO', 'EKG', 'EMG', 'Trigger']. Their position has been left untouched.\n",
      "  files=mne.io.read_raw_cnt(file_path+\"/\"+file,montage=montage, preload=True,verbose=False);\n",
      "<ipython-input-1-a5af071fa5c2>:17: DeprecationWarning: The `montage` parameter from `read_raw_cnt` is deprecated and will be removed  in version 0.20. Use  raw.set_montage(montage) instead.\n",
      "  files=mne.io.read_raw_cnt(file_path+\"/\"+file,montage=montage, preload=True,verbose=False);\n",
      " 64%|██████▎   | 7/11 [00:13<00:07,  1.86s/it]<ipython-input-1-a5af071fa5c2>:17: RuntimeWarning:   Could not parse meas date from the header. Setting to None.\n",
      "  files=mne.io.read_raw_cnt(file_path+\"/\"+file,montage=montage, preload=True,verbose=False);\n",
      "<ipython-input-1-a5af071fa5c2>:17: DeprecationWarning: Setting a montage using anything rather than DigMontage is deprecated and will raise an error in v0.20. Please use ``read_dig_fif``, ``read_dig_egi``, ``read_dig_polhemus_isotrak``, or ``read_dig_captrack`` ``read_dig_hpts``, ``read_dig_captrack`` or ``read_custom_montage`` to read a digitization based on your needs instead; or ``make_standard_montage`` to create ``DigMontage`` based on template; or ``make_dig_montage`` to create a ``DigMontage`` out of np.arrays.\n",
      "  files=mne.io.read_raw_cnt(file_path+\"/\"+file,montage=montage, preload=True,verbose=False);\n",
      "<ipython-input-1-a5af071fa5c2>:17: RuntimeWarning: The following EEG sensors did not have a position specified in the selected montage: ['VEO', 'HEO', 'EKG', 'EMG', 'Trigger']. Their position has been left untouched.\n",
      "  files=mne.io.read_raw_cnt(file_path+\"/\"+file,montage=montage, preload=True,verbose=False);\n",
      "<ipython-input-1-a5af071fa5c2>:17: DeprecationWarning: The `montage` parameter from `read_raw_cnt` is deprecated and will be removed  in version 0.20. Use  raw.set_montage(montage) instead.\n",
      "  files=mne.io.read_raw_cnt(file_path+\"/\"+file,montage=montage, preload=True,verbose=False);\n",
      " 73%|███████▎  | 8/11 [00:15<00:05,  1.79s/it]<ipython-input-1-a5af071fa5c2>:17: RuntimeWarning:   Could not parse meas date from the header. Setting to None.\n",
      "  files=mne.io.read_raw_cnt(file_path+\"/\"+file,montage=montage, preload=True,verbose=False);\n",
      "<ipython-input-1-a5af071fa5c2>:17: DeprecationWarning: Setting a montage using anything rather than DigMontage is deprecated and will raise an error in v0.20. Please use ``read_dig_fif``, ``read_dig_egi``, ``read_dig_polhemus_isotrak``, or ``read_dig_captrack`` ``read_dig_hpts``, ``read_dig_captrack`` or ``read_custom_montage`` to read a digitization based on your needs instead; or ``make_standard_montage`` to create ``DigMontage`` based on template; or ``make_dig_montage`` to create a ``DigMontage`` out of np.arrays.\n",
      "  files=mne.io.read_raw_cnt(file_path+\"/\"+file,montage=montage, preload=True,verbose=False);\n",
      "<ipython-input-1-a5af071fa5c2>:17: RuntimeWarning: The following EEG sensors did not have a position specified in the selected montage: ['VEO', 'HEO', 'EKG', 'EMG', 'Trigger']. Their position has been left untouched.\n",
      "  files=mne.io.read_raw_cnt(file_path+\"/\"+file,montage=montage, preload=True,verbose=False);\n",
      "<ipython-input-1-a5af071fa5c2>:17: DeprecationWarning: The `montage` parameter from `read_raw_cnt` is deprecated and will be removed  in version 0.20. Use  raw.set_montage(montage) instead.\n",
      "  files=mne.io.read_raw_cnt(file_path+\"/\"+file,montage=montage, preload=True,verbose=False);\n",
      " 82%|████████▏ | 9/11 [00:16<00:03,  1.74s/it]<ipython-input-1-a5af071fa5c2>:17: RuntimeWarning:   Could not parse meas date from the header. Setting to None.\n",
      "  files=mne.io.read_raw_cnt(file_path+\"/\"+file,montage=montage, preload=True,verbose=False);\n",
      "<ipython-input-1-a5af071fa5c2>:17: DeprecationWarning: Setting a montage using anything rather than DigMontage is deprecated and will raise an error in v0.20. Please use ``read_dig_fif``, ``read_dig_egi``, ``read_dig_polhemus_isotrak``, or ``read_dig_captrack`` ``read_dig_hpts``, ``read_dig_captrack`` or ``read_custom_montage`` to read a digitization based on your needs instead; or ``make_standard_montage`` to create ``DigMontage`` based on template; or ``make_dig_montage`` to create a ``DigMontage`` out of np.arrays.\n",
      "  files=mne.io.read_raw_cnt(file_path+\"/\"+file,montage=montage, preload=True,verbose=False);\n",
      "<ipython-input-1-a5af071fa5c2>:17: RuntimeWarning: The following EEG sensors did not have a position specified in the selected montage: ['VEO', 'HEO', 'EKG', 'EMG', 'Trigger']. Their position has been left untouched.\n",
      "  files=mne.io.read_raw_cnt(file_path+\"/\"+file,montage=montage, preload=True,verbose=False);\n",
      "<ipython-input-1-a5af071fa5c2>:17: DeprecationWarning: The `montage` parameter from `read_raw_cnt` is deprecated and will be removed  in version 0.20. Use  raw.set_montage(montage) instead.\n",
      "  files=mne.io.read_raw_cnt(file_path+\"/\"+file,montage=montage, preload=True,verbose=False);\n",
      " 91%|█████████ | 10/11 [00:18<00:01,  1.70s/it]<ipython-input-1-a5af071fa5c2>:17: RuntimeWarning:   Could not parse meas date from the header. Setting to None.\n",
      "  files=mne.io.read_raw_cnt(file_path+\"/\"+file,montage=montage, preload=True,verbose=False);\n",
      "<ipython-input-1-a5af071fa5c2>:17: DeprecationWarning: Setting a montage using anything rather than DigMontage is deprecated and will raise an error in v0.20. Please use ``read_dig_fif``, ``read_dig_egi``, ``read_dig_polhemus_isotrak``, or ``read_dig_captrack`` ``read_dig_hpts``, ``read_dig_captrack`` or ``read_custom_montage`` to read a digitization based on your needs instead; or ``make_standard_montage`` to create ``DigMontage`` based on template; or ``make_dig_montage`` to create a ``DigMontage`` out of np.arrays.\n",
      "  files=mne.io.read_raw_cnt(file_path+\"/\"+file,montage=montage, preload=True,verbose=False);\n",
      "<ipython-input-1-a5af071fa5c2>:17: RuntimeWarning: The following EEG sensors did not have a position specified in the selected montage: ['VEO', 'HEO', 'EKG', 'EMG', 'Trigger']. Their position has been left untouched.\n",
      "  files=mne.io.read_raw_cnt(file_path+\"/\"+file,montage=montage, preload=True,verbose=False);\n",
      "<ipython-input-1-a5af071fa5c2>:17: DeprecationWarning: The `montage` parameter from `read_raw_cnt` is deprecated and will be removed  in version 0.20. Use  raw.set_montage(montage) instead.\n",
      "  files=mne.io.read_raw_cnt(file_path+\"/\"+file,montage=montage, preload=True,verbose=False);\n",
      "100%|██████████| 11/11 [00:20<00:00,  1.89s/it]\n",
      "  0%|          | 0/11 [00:00<?, ?it/s]<ipython-input-1-a5af071fa5c2>:26: DeprecationWarning: Setting a montage using anything rather than DigMontage is deprecated and will raise an error in v0.20. Please use ``read_dig_fif``, ``read_dig_egi``, ``read_dig_polhemus_isotrak``, or ``read_dig_captrack`` ``read_dig_hpts``, ``read_dig_captrack`` or ``read_custom_montage`` to read a digitization based on your needs instead; or ``make_standard_montage`` to create ``DigMontage`` based on template; or ``make_dig_montage`` to create a ``DigMontage`` out of np.arrays.\n",
      "  f.set_montage(montage)\n",
      "<ipython-input-1-a5af071fa5c2>:26: DeprecationWarning: Setting a montage using anything rather than DigMontage is deprecated and will raise an error in v0.20. Please use ``read_dig_fif``, ``read_dig_egi``, ``read_dig_polhemus_isotrak``, or ``read_dig_captrack`` ``read_dig_hpts``, ``read_dig_captrack`` or ``read_custom_montage`` to read a digitization based on your needs instead; or ``make_standard_montage`` to create ``DigMontage`` based on template; or ``make_dig_montage`` to create a ``DigMontage`` out of np.arrays.\n",
      "  f.set_montage(montage)\n",
      "<ipython-input-1-a5af071fa5c2>:26: DeprecationWarning: Setting a montage using anything rather than DigMontage is deprecated and will raise an error in v0.20. Please use ``read_dig_fif``, ``read_dig_egi``, ``read_dig_polhemus_isotrak``, or ``read_dig_captrack`` ``read_dig_hpts``, ``read_dig_captrack`` or ``read_custom_montage`` to read a digitization based on your needs instead; or ``make_standard_montage`` to create ``DigMontage`` based on template; or ``make_dig_montage`` to create a ``DigMontage`` out of np.arrays.\n",
      "  f.set_montage(montage)\n",
      "<ipython-input-1-a5af071fa5c2>:26: DeprecationWarning: Setting a montage using anything rather than DigMontage is deprecated and will raise an error in v0.20. Please use ``read_dig_fif``, ``read_dig_egi``, ``read_dig_polhemus_isotrak``, or ``read_dig_captrack`` ``read_dig_hpts``, ``read_dig_captrack`` or ``read_custom_montage`` to read a digitization based on your needs instead; or ``make_standard_montage`` to create ``DigMontage`` based on template; or ``make_dig_montage`` to create a ``DigMontage`` out of np.arrays.\n",
      "  f.set_montage(montage)\n",
      "<ipython-input-1-a5af071fa5c2>:26: DeprecationWarning: Setting a montage using anything rather than DigMontage is deprecated and will raise an error in v0.20. Please use ``read_dig_fif``, ``read_dig_egi``, ``read_dig_polhemus_isotrak``, or ``read_dig_captrack`` ``read_dig_hpts``, ``read_dig_captrack`` or ``read_custom_montage`` to read a digitization based on your needs instead; or ``make_standard_montage`` to create ``DigMontage`` based on template; or ``make_dig_montage`` to create a ``DigMontage`` out of np.arrays.\n",
      "  f.set_montage(montage)\n",
      "<ipython-input-1-a5af071fa5c2>:26: DeprecationWarning: Setting a montage using anything rather than DigMontage is deprecated and will raise an error in v0.20. Please use ``read_dig_fif``, ``read_dig_egi``, ``read_dig_polhemus_isotrak``, or ``read_dig_captrack`` ``read_dig_hpts``, ``read_dig_captrack`` or ``read_custom_montage`` to read a digitization based on your needs instead; or ``make_standard_montage`` to create ``DigMontage`` based on template; or ``make_dig_montage`` to create a ``DigMontage`` out of np.arrays.\n",
      "  f.set_montage(montage)\n",
      "<ipython-input-1-a5af071fa5c2>:26: DeprecationWarning: Setting a montage using anything rather than DigMontage is deprecated and will raise an error in v0.20. Please use ``read_dig_fif``, ``read_dig_egi``, ``read_dig_polhemus_isotrak``, or ``read_dig_captrack`` ``read_dig_hpts``, ``read_dig_captrack`` or ``read_custom_montage`` to read a digitization based on your needs instead; or ``make_standard_montage`` to create ``DigMontage`` based on template; or ``make_dig_montage`` to create a ``DigMontage`` out of np.arrays.\n",
      "  f.set_montage(montage)\n",
      "<ipython-input-1-a5af071fa5c2>:26: DeprecationWarning: Setting a montage using anything rather than DigMontage is deprecated and will raise an error in v0.20. Please use ``read_dig_fif``, ``read_dig_egi``, ``read_dig_polhemus_isotrak``, or ``read_dig_captrack`` ``read_dig_hpts``, ``read_dig_captrack`` or ``read_custom_montage`` to read a digitization based on your needs instead; or ``make_standard_montage`` to create ``DigMontage`` based on template; or ``make_dig_montage`` to create a ``DigMontage`` out of np.arrays.\n",
      "  f.set_montage(montage)\n",
      "<ipython-input-1-a5af071fa5c2>:26: DeprecationWarning: Setting a montage using anything rather than DigMontage is deprecated and will raise an error in v0.20. Please use ``read_dig_fif``, ``read_dig_egi``, ``read_dig_polhemus_isotrak``, or ``read_dig_captrack`` ``read_dig_hpts``, ``read_dig_captrack`` or ``read_custom_montage`` to read a digitization based on your needs instead; or ``make_standard_montage`` to create ``DigMontage`` based on template; or ``make_dig_montage`` to create a ``DigMontage`` out of np.arrays.\n",
      "  f.set_montage(montage)\n",
      "<ipython-input-1-a5af071fa5c2>:26: DeprecationWarning: Setting a montage using anything rather than DigMontage is deprecated and will raise an error in v0.20. Please use ``read_dig_fif``, ``read_dig_egi``, ``read_dig_polhemus_isotrak``, or ``read_dig_captrack`` ``read_dig_hpts``, ``read_dig_captrack`` or ``read_custom_montage`` to read a digitization based on your needs instead; or ``make_standard_montage`` to create ``DigMontage`` based on template; or ``make_dig_montage`` to create a ``DigMontage`` out of np.arrays.\n",
      "  f.set_montage(montage)\n",
      "<ipython-input-1-a5af071fa5c2>:26: DeprecationWarning: Setting a montage using anything rather than DigMontage is deprecated and will raise an error in v0.20. Please use ``read_dig_fif``, ``read_dig_egi``, ``read_dig_polhemus_isotrak``, or ``read_dig_captrack`` ``read_dig_hpts``, ``read_dig_captrack`` or ``read_custom_montage`` to read a digitization based on your needs instead; or ``make_standard_montage`` to create ``DigMontage`` based on template; or ``make_dig_montage`` to create a ``DigMontage`` out of np.arrays.\n",
      "  f.set_montage(montage)\n"
     ]
    },
    {
     "name": "stderr",
     "output_type": "stream",
     "text": [
      "100%|██████████| 11/11 [00:00<00:00, 279.70it/s]\n"
     ]
    }
   ],
   "source": [
    "import mne\n",
    "import os\n",
    "from os.path import abspath\n",
    "import matplotlib.pyplot as plt\n",
    "import numpy as np\n",
    "import pandas as pd\n",
    "from mne.time_frequency import psd_welch\n",
    "from tqdm import tqdm\n",
    "import itertools\n",
    "from multiprocessing import Process\n",
    "file_path=\"/home/kashraf/felix_hd/data_gen_may_2021/EEG data/Audio/\"\n",
    "filename=os.listdir(file_path)\n",
    "path_montage=\"/home/kashraf/felix_hd/data_gen_may_2021/montage/\"\n",
    "montage=mne.channels.read_montage(path_montage+\"//\"+\"neuroscan64ch.loc\")\n",
    "raw_data=[]\n",
    "for file in tqdm(filename):\n",
    "    files=mne.io.read_raw_cnt(file_path+\"/\"+file,montage=montage, preload=True,verbose=False);\n",
    "    raw_data.append(files)\n",
    "\n",
    "## Selecting channels to include\n",
    "good_ch= mne.pick_channels(raw_data[0].info['ch_names'], include=[],\n",
    "                        exclude=[\"EKG\",\"EMG\",'VEO','HEO','Trigger'])\n",
    "mne.pick_info(raw_data[0].info,sel=good_ch,copy=False,verbose=False)\n",
    "for f in tqdm(raw_data):\n",
    "    mne.pick_info(f.info,sel=good_ch,copy=False)\n",
    "    f.set_montage(montage)"
   ]
  },
  {
   "cell_type": "code",
   "execution_count": 2,
   "metadata": {},
   "outputs": [
    {
     "name": "stdout",
     "output_type": "stream",
     "text": [
      "Used Annotations descriptions: ['22', '24', '255', '26', '28', '31', '32', '33', '34', '35', '36', '37', '38', '39', '40', '41', '42', '43', '44', '45', '51', '52', '62', '64', '66', '68']\n"
     ]
    }
   ],
   "source": [
    "events= mne.events_from_annotations(raw_data[6])\n",
    "\n",
    "event_id_recall={'12': 1, '14': 2, '16': 3, '18': 4}\n",
    "event_id_encoding={\"22\":1,\"24\":2,\"26\":3,\"28\":4}\n",
    "# # event_id_answer={\"\"}\n",
    "# event_id_answer={\"51\":9,\"52\":10}\n",
    "# events\n"
   ]
  },
  {
   "cell_type": "code",
   "execution_count": 3,
   "metadata": {},
   "outputs": [
    {
     "data": {
      "text/plain": [
       "<Info | 18 non-empty fields\n",
       "    bads : list | 0 items\n",
       "    ch_names : list | FP1, FPZ, FP2, AF3, AF4, F7, F5, F3, F1, ...\n",
       "    chs : list | 64 items (EEG: 64)\n",
       "    comps : list | 0 items\n",
       "    custom_ref_applied : bool | False\n",
       "    dev_head_t : Transform | 3 items\n",
       "    dig : Digitization | 64 items (64 EEG)\n",
       "    events : list | 0 items\n",
       "    highpass : float | 0.0 Hz\n",
       "    hpi_meas : list | 0 items\n",
       "    hpi_results : list | 0 items\n",
       "    lowpass : float | 125.0 Hz\n",
       "    meas_date : NoneType | unspecified\n",
       "    nchan : int | 64\n",
       "    proc_history : list | 0 items\n",
       "    projs : list | 0 items\n",
       "    sfreq : float | 250.0 Hz\n",
       "    subject_info : dict | 5 items\n",
       "    acq_pars : NoneType\n",
       "    acq_stim : NoneType\n",
       "    ctf_head_t : NoneType\n",
       "    description : NoneType\n",
       "    dev_ctf_t : NoneType\n",
       "    device_info : NoneType\n",
       "    experimenter : NoneType\n",
       "    file_id : NoneType\n",
       "    gantry_angle : NoneType\n",
       "    helium_info : NoneType\n",
       "    hpi_subsystem : NoneType\n",
       "    kit_system_id : NoneType\n",
       "    line_freq : NoneType\n",
       "    meas_id : NoneType\n",
       "    proj_id : NoneType\n",
       "    proj_name : NoneType\n",
       "    utc_offset : NoneType\n",
       "    xplotter_layout : NoneType\n",
       ">"
      ]
     },
     "execution_count": 3,
     "metadata": {},
     "output_type": "execute_result"
    }
   ],
   "source": [
    "info=raw_data[1].info\n",
    "info"
   ]
  },
  {
   "cell_type": "code",
   "execution_count": 4,
   "metadata": {},
   "outputs": [
    {
     "name": "stdout",
     "output_type": "stream",
     "text": [
      "45 matching events found\n",
      "Applying baseline correction (mode: mean)\n",
      "Not setting metadata\n",
      "0 projection items activated\n",
      "Loading data for 45 events and 176 original time points ...\n",
      "0 bad epochs dropped\n",
      "45 matching events found\n",
      "Applying baseline correction (mode: mean)\n",
      "Not setting metadata\n",
      "0 projection items activated\n",
      "Loading data for 45 events and 176 original time points ...\n",
      "0 bad epochs dropped\n",
      "1509 matching events found\n",
      "Applying baseline correction (mode: mean)\n",
      "Not setting metadata\n",
      "0 projection items activated\n",
      "Loading data for 1509 events and 176 original time points ...\n",
      "0 bad epochs dropped\n",
      "45 matching events found\n",
      "Applying baseline correction (mode: mean)\n",
      "Not setting metadata\n",
      "0 projection items activated\n",
      "Loading data for 45 events and 176 original time points ...\n",
      "0 bad epochs dropped\n",
      "45 matching events found\n",
      "Applying baseline correction (mode: mean)\n",
      "Not setting metadata\n",
      "0 projection items activated\n",
      "Loading data for 45 events and 176 original time points ...\n",
      "0 bad epochs dropped\n",
      "45 matching events found\n",
      "Applying baseline correction (mode: mean)\n",
      "Not setting metadata\n",
      "0 projection items activated\n",
      "Loading data for 45 events and 176 original time points ...\n",
      "0 bad epochs dropped\n",
      "1509 matching events found\n",
      "Applying baseline correction (mode: mean)\n",
      "Not setting metadata\n",
      "0 projection items activated\n",
      "Loading data for 1509 events and 176 original time points ...\n",
      "0 bad epochs dropped\n",
      "45 matching events found\n",
      "Applying baseline correction (mode: mean)\n",
      "Not setting metadata\n",
      "0 projection items activated\n",
      "Loading data for 45 events and 176 original time points ...\n",
      "0 bad epochs dropped\n",
      "45 matching events found\n",
      "Applying baseline correction (mode: mean)\n",
      "Not setting metadata\n",
      "0 projection items activated\n",
      "Loading data for 45 events and 176 original time points ...\n",
      "0 bad epochs dropped\n",
      "45 matching events found\n",
      "Applying baseline correction (mode: mean)\n",
      "Not setting metadata\n",
      "0 projection items activated\n",
      "Loading data for 45 events and 176 original time points ...\n",
      "0 bad epochs dropped\n",
      "1509 matching events found\n",
      "Applying baseline correction (mode: mean)\n",
      "Not setting metadata\n",
      "0 projection items activated\n",
      "Loading data for 1509 events and 176 original time points ...\n",
      "0 bad epochs dropped\n",
      "45 matching events found\n",
      "Applying baseline correction (mode: mean)\n",
      "Not setting metadata\n",
      "0 projection items activated\n",
      "Loading data for 45 events and 176 original time points ...\n",
      "0 bad epochs dropped\n",
      "45 matching events found\n",
      "Applying baseline correction (mode: mean)\n",
      "Not setting metadata\n",
      "0 projection items activated\n",
      "Loading data for 45 events and 176 original time points ...\n",
      "0 bad epochs dropped\n",
      "45 matching events found\n",
      "Applying baseline correction (mode: mean)\n",
      "Not setting metadata\n",
      "0 projection items activated\n",
      "Loading data for 45 events and 176 original time points ...\n",
      "0 bad epochs dropped\n",
      "1509 matching events found\n",
      "Applying baseline correction (mode: mean)\n",
      "Not setting metadata\n",
      "0 projection items activated\n",
      "Loading data for 1509 events and 176 original time points ...\n",
      "0 bad epochs dropped\n",
      "45 matching events found\n",
      "Applying baseline correction (mode: mean)\n",
      "Not setting metadata\n",
      "0 projection items activated\n",
      "Loading data for 45 events and 176 original time points ...\n",
      "0 bad epochs dropped\n",
      "45 matching events found\n",
      "Applying baseline correction (mode: mean)\n",
      "Not setting metadata\n",
      "0 projection items activated\n",
      "Loading data for 45 events and 176 original time points ...\n",
      "0 bad epochs dropped\n",
      "45 matching events found\n",
      "Applying baseline correction (mode: mean)\n",
      "Not setting metadata\n",
      "0 projection items activated\n",
      "Loading data for 45 events and 176 original time points ...\n",
      "0 bad epochs dropped\n",
      "1509 matching events found\n",
      "Applying baseline correction (mode: mean)\n",
      "Not setting metadata\n",
      "0 projection items activated\n",
      "Loading data for 1509 events and 176 original time points ...\n",
      "0 bad epochs dropped\n",
      "45 matching events found\n",
      "Applying baseline correction (mode: mean)\n",
      "Not setting metadata\n",
      "0 projection items activated\n",
      "Loading data for 45 events and 176 original time points ...\n",
      "0 bad epochs dropped\n",
      "45 matching events found\n",
      "Applying baseline correction (mode: mean)\n",
      "Not setting metadata\n",
      "0 projection items activated\n",
      "Loading data for 45 events and 176 original time points ...\n",
      "0 bad epochs dropped\n",
      "45 matching events found\n",
      "Applying baseline correction (mode: mean)\n",
      "Not setting metadata\n",
      "0 projection items activated\n",
      "Loading data for 45 events and 176 original time points ...\n",
      "0 bad epochs dropped\n",
      "1509 matching events found\n",
      "Applying baseline correction (mode: mean)\n",
      "Not setting metadata\n",
      "0 projection items activated\n",
      "Loading data for 1509 events and 176 original time points ...\n",
      "0 bad epochs dropped\n",
      "45 matching events found\n",
      "Applying baseline correction (mode: mean)\n",
      "Not setting metadata\n",
      "0 projection items activated\n",
      "Loading data for 45 events and 176 original time points ...\n",
      "0 bad epochs dropped\n",
      "45 matching events found\n",
      "Applying baseline correction (mode: mean)\n",
      "Not setting metadata\n",
      "0 projection items activated\n",
      "Loading data for 45 events and 176 original time points ...\n",
      "0 bad epochs dropped\n",
      "45 matching events found\n",
      "Applying baseline correction (mode: mean)\n",
      "Not setting metadata\n",
      "0 projection items activated\n",
      "Loading data for 45 events and 176 original time points ...\n",
      "0 bad epochs dropped\n",
      "1509 matching events found\n",
      "Applying baseline correction (mode: mean)\n",
      "Not setting metadata\n",
      "0 projection items activated\n",
      "Loading data for 1509 events and 176 original time points ...\n",
      "0 bad epochs dropped\n",
      "45 matching events found\n",
      "Applying baseline correction (mode: mean)\n",
      "Not setting metadata\n",
      "0 projection items activated\n",
      "Loading data for 45 events and 176 original time points ...\n",
      "0 bad epochs dropped\n",
      "45 matching events found\n",
      "Applying baseline correction (mode: mean)\n",
      "Not setting metadata\n",
      "0 projection items activated\n",
      "Loading data for 45 events and 176 original time points ...\n",
      "0 bad epochs dropped\n",
      "45 matching events found\n",
      "Applying baseline correction (mode: mean)\n",
      "Not setting metadata\n",
      "0 projection items activated\n",
      "Loading data for 45 events and 176 original time points ...\n",
      "0 bad epochs dropped\n",
      "1509 matching events found\n",
      "Applying baseline correction (mode: mean)\n",
      "Not setting metadata\n",
      "0 projection items activated\n",
      "Loading data for 1509 events and 176 original time points ...\n",
      "0 bad epochs dropped\n",
      "45 matching events found\n",
      "Applying baseline correction (mode: mean)\n",
      "Not setting metadata\n",
      "0 projection items activated\n",
      "Loading data for 45 events and 176 original time points ...\n",
      "0 bad epochs dropped\n",
      "45 matching events found\n",
      "Applying baseline correction (mode: mean)\n",
      "Not setting metadata\n",
      "0 projection items activated\n",
      "Loading data for 45 events and 176 original time points ...\n",
      "0 bad epochs dropped\n",
      "45 matching events found\n",
      "Applying baseline correction (mode: mean)\n",
      "Not setting metadata\n",
      "0 projection items activated\n",
      "Loading data for 45 events and 176 original time points ...\n",
      "0 bad epochs dropped\n",
      "1509 matching events found\n",
      "Applying baseline correction (mode: mean)\n",
      "Not setting metadata\n",
      "0 projection items activated\n",
      "Loading data for 1509 events and 176 original time points ...\n",
      "0 bad epochs dropped\n",
      "45 matching events found\n",
      "Applying baseline correction (mode: mean)\n",
      "Not setting metadata\n",
      "0 projection items activated\n",
      "Loading data for 45 events and 176 original time points ...\n",
      "0 bad epochs dropped\n",
      "45 matching events found\n",
      "Applying baseline correction (mode: mean)\n",
      "Not setting metadata\n",
      "0 projection items activated\n",
      "Loading data for 45 events and 176 original time points ...\n",
      "0 bad epochs dropped\n",
      "45 matching events found\n",
      "Applying baseline correction (mode: mean)\n",
      "Not setting metadata\n",
      "0 projection items activated\n",
      "Loading data for 45 events and 176 original time points ...\n",
      "0 bad epochs dropped\n",
      "1509 matching events found\n",
      "Applying baseline correction (mode: mean)\n",
      "Not setting metadata\n",
      "0 projection items activated\n",
      "Loading data for 1509 events and 176 original time points ...\n",
      "0 bad epochs dropped\n",
      "45 matching events found\n",
      "Applying baseline correction (mode: mean)\n",
      "Not setting metadata\n",
      "0 projection items activated\n",
      "Loading data for 45 events and 176 original time points ...\n",
      "0 bad epochs dropped\n",
      "45 matching events found\n",
      "Applying baseline correction (mode: mean)\n",
      "Not setting metadata\n",
      "0 projection items activated\n",
      "Loading data for 45 events and 176 original time points ...\n",
      "0 bad epochs dropped\n",
      "45 matching events found\n",
      "Applying baseline correction (mode: mean)\n"
     ]
    },
    {
     "name": "stdout",
     "output_type": "stream",
     "text": [
      "Not setting metadata\n",
      "0 projection items activated\n",
      "Loading data for 45 events and 176 original time points ...\n",
      "0 bad epochs dropped\n",
      "1509 matching events found\n",
      "Applying baseline correction (mode: mean)\n",
      "Not setting metadata\n",
      "0 projection items activated\n",
      "Loading data for 1509 events and 176 original time points ...\n",
      "0 bad epochs dropped\n",
      "45 matching events found\n",
      "Applying baseline correction (mode: mean)\n",
      "Not setting metadata\n",
      "0 projection items activated\n",
      "Loading data for 45 events and 176 original time points ...\n",
      "0 bad epochs dropped\n"
     ]
    }
   ],
   "source": [
    "import multiprocessing\n",
    "from tqdm import tqdm\n",
    "data=dict()\n",
    "for i in range(len(raw_data)):\n",
    "    data[i+1]={\n",
    "    2:mne.Epochs(raw_data[i], events[0], event_id=event_id_encoding[\"22\"]).get_data(),\n",
    "    4:mne.Epochs(raw_data[i], events[0], event_id=event_id_encoding[\"24\"]).get_data(),\n",
    "    6:mne.Epochs(raw_data[i], events[0], event_id=event_id_encoding[\"26\"]).get_data(),\n",
    "    8:mne.Epochs(raw_data[i], events[0], event_id=event_id_encoding[\"28\"]).get_data(),\n",
    "    }"
   ]
  },
  {
   "cell_type": "markdown",
   "metadata": {},
   "source": [
    "### Single trial data for each cognitive load"
   ]
  },
  {
   "cell_type": "code",
   "execution_count": 5,
   "metadata": {},
   "outputs": [],
   "source": [
    "cl2_data=np.concatenate([data[sub][2] for sub in data])\n",
    "cl4_data=np.concatenate([data[sub][4] for sub in data])\n",
    "cl6_data=np.concatenate([data[sub][6] for sub in data])\n",
    "cl8_data=np.concatenate([data[sub][8] for sub in data])\n"
   ]
  },
  {
   "cell_type": "markdown",
   "metadata": {},
   "source": [
    "#### Single trial power spectral density"
   ]
  },
  {
   "cell_type": "code",
   "execution_count": 6,
   "metadata": {},
   "outputs": [],
   "source": [
    "# def psd_gen(dataset):\n",
    "#     psds=[]\n",
    "#     for i in tqdm(range(dataset.shape[0])):\n",
    "#         trial_data=np.reshape(dataset[i],(1,64,176))\n",
    "#         trial_data=mne.EpochsArray(trial_data,info=raw_data[0].info,verbose=0)\n",
    "#         psd,freq= mne.time_frequency.psd_welch(trial_data,n_fft=176,verbose=0)\n",
    "#         psd= np.average(psd,axis=2).flatten()\n",
    "#         psds.append(psd)\n",
    "#     return np.array(psds)\n",
    "# cl2_psd=psd_gen(cl2_data)\n",
    "# cl4_psd=psd_gen(cl4_data)\n",
    "# cl6_psd=psd_gen(cl6_data)\n",
    "# cl8_psd=psd_gen(cl8_data)"
   ]
  },
  {
   "cell_type": "markdown",
   "metadata": {},
   "source": [
    "#### PCA and choice of components"
   ]
  },
  {
   "cell_type": "code",
   "execution_count": 7,
   "metadata": {},
   "outputs": [
    {
     "data": {
      "image/png": "[encoded data removed]",
      "text/plain": [
       "<Figure size 864x576 with 4 Axes>"
      ]
     },
     "metadata": {
      "needs_background": "light"
     },
     "output_type": "display_data"
    }
   ],
   "source": [
    "from sklearn.decomposition import PCA\n",
    "pca=PCA()\n",
    "explained_var2=pca.fit(np.concatenate(cl2_data)).explained_variance_\n",
    "explained_var4=pca.fit(np.concatenate(cl4_data)).explained_variance_\n",
    "explained_var6=pca.fit(np.concatenate(cl6_data)).explained_variance_\n",
    "explained_var8=pca.fit(np.concatenate(cl8_data)).explained_variance_\n",
    "titles=[\"CL-2\",\"CL-4\",\"CL-6\",\"CL-8\"]\n",
    "fig,axes=plt.subplots(nrows=2,ncols=2,figsize=(12,8))\n",
    "for ax, var,title in zip(axes.flatten(),[explained_var2,explained_var4,explained_var6,explained_var8],titles):\n",
    "    ax.plot(np.cumsum(var/sum(var)))\n",
    "    ax.set_title(title)\n",
    "    ax.set_ylabel(\"Explained variance\")\n",
    "    ax.set_xlabel(\"Components\")"
   ]
  },
  {
   "cell_type": "code",
   "execution_count": 8,
   "metadata": {},
   "outputs": [
    {
     "data": {
      "text/plain": [
       "(5575680,)"
      ]
     },
     "execution_count": 8,
     "metadata": {},
     "output_type": "execute_result"
    }
   ],
   "source": [
    "cl2_data.flatten().shape"
   ]
  },
  {
   "cell_type": "markdown",
   "metadata": {},
   "source": [
    "### Bootstrap sampling "
   ]
  },
  {
   "cell_type": "code",
   "execution_count": 9,
   "metadata": {},
   "outputs": [
    {
     "name": "stderr",
     "output_type": "stream",
     "text": [
      "100%|██████████| 11/11 [00:14<00:00,  1.37s/it]\n"
     ]
    }
   ],
   "source": [
    "from tqdm import tqdm\n",
    "\n",
    "n_trials= 20# Number of trials to be selected and be averaged out to give one ERP\n",
    "n_erp= 1000 # Nmber of ERPS required per subject per CL level. So for cL2 we have 1000*11 Erp\n",
    "\n",
    "def bootstrap(event,trials, n_trials,n_erps):\n",
    "    erps=[]\n",
    "    for i in range(n_erps):\n",
    "        t=np.random.choice(trials,n_trials)\n",
    "        erp = np.average(event[t],axis=0)\n",
    "        erps.append(erp)\n",
    "    return erps\n",
    "for i in tqdm(range(len(data))):\n",
    "    data[i+1][\"erp2\"]=bootstrap(data[i+1][2], data[i+1][2].shape[0],n_trials,n_erp)\n",
    "    data[i+1][\"erp4\"]=bootstrap(data[i+1][4], data[i+1][4].shape[0],n_trials,n_erp)\n",
    "    data[i+1][\"erp6\"]=bootstrap(data[i+1][6], data[i+1][6].shape[0],n_trials,n_erp)\n",
    "    data[i+1][\"erp8\"]=bootstrap(data[i+1][8], data[i+1][8].shape[0],n_trials,n_erp)\n",
    "\n",
    "## Transform our data into epoch array\n",
    "# from tqdm import tqdm\n",
    "# def bootstrap_process(start):\n"
   ]
  },
  {
   "cell_type": "code",
   "execution_count": 10,
   "metadata": {},
   "outputs": [],
   "source": [
    "# for sub in tqdm(data):\n",
    "#     for i in range(1000):\n",
    "#         data[sub][\"erp2\"][i]=np.reshape(data[sub][\"erp2\"][i],(1,64,176))\n",
    "#         data[sub][\"erp2\"][i]=mne.EpochsArray(data[sub][\"erp2\"][i],info=raw_data[0].info,verbose=0)\n",
    "\n",
    "#         data[sub][\"erp4\"][i]=np.reshape(data[sub][\"erp4\"][i],(1,64,176))\n",
    "#         data[sub][\"erp4\"][i]=mne.EpochsArray(data[sub][\"erp4\"][i],info=raw_data[0].info,verbose=0)\n",
    "\n",
    "#         data[sub][\"erp6\"][i]=np.reshape(data[sub][\"erp6\"][i],(1,64,176))\n",
    "#         data[sub][\"erp6\"][i]=mne.EpochsArray(data[sub][\"erp6\"][i],info=raw_data[0].info,verbose=0)\n",
    "\n",
    "#         data[sub][\"erp8\"][i]=np.reshape(data[sub][\"erp8\"][i],(1,64,176))\n",
    "#         data[sub][\"erp8\"][i]=mne.EpochsArray(data[sub][\"erp8\"][i],info=raw_data[0].info,verbose=0)"
   ]
  },
  {
   "cell_type": "code",
   "execution_count": 11,
   "metadata": {},
   "outputs": [],
   "source": [
    "# def psd_bootstrap(erp_level):\n",
    "#     psds=[]\n",
    "#     for sub in data:\n",
    "#         for i in range(1000):\n",
    "#             erp_data=data[sub][erp_level][i]\n",
    "#             psd,freq= mne.time_frequency.psd_welch(erp_data,n_fft=176,verbose=0)\n",
    "#             psd= np.average(psd,axis=2).flatten()\n",
    "#             psds.append(psd)\n",
    "#     return np.array(psds)\n",
    "# p_density_cl2=psd_bootstrap(\"erp2\")\n",
    "# p_density_cl4=psd_bootstrap(\"erp4\")\n",
    "# p_density_cl6=psd_bootstrap(\"erp6\")\n",
    "# p_density_cl8=psd_bootstrap(\"erp8\")\n",
    "            "
   ]
  },
  {
   "cell_type": "code",
   "execution_count": 12,
   "metadata": {},
   "outputs": [],
   "source": [
    "# recons=pca_projection_reconstruction(cl8_psd,p_density_cl8,1)\n",
    "# error= np.linalg.norm(recons-p_density_cl8,axis=1)\n",
    "# plt.hist(error)\n",
    "# plt.show()\n"
   ]
  },
  {
   "cell_type": "code",
   "execution_count": 13,
   "metadata": {},
   "outputs": [],
   "source": [
    "\n",
    "def pca_projection_reconstruction(trial_data,erp_data,n_components):\n",
    "    pca=PCA(n_components=n_components)\n",
    "    pca.fit(trial_data)\n",
    "    eigen_space=pca.components_\n",
    "    reconstructed=[]\n",
    "    for erp in erp_data:     \n",
    "    # Project Erp into these space\n",
    "        projected_erp=pca.transform(erp)\n",
    "        recons=np.dot(projected_erp,eigen_space)\n",
    "        reconstructed.append(recons)\n",
    "    return np.array(reconstructed)\n",
    "    "
   ]
  },
  {
   "cell_type": "code",
   "execution_count": 14,
   "metadata": {},
   "outputs": [],
   "source": [
    "# original_data=np.concatenate(cl4_data)\n",
    "# erps=np.array(data[1]['erp2'])\n",
    "# data_recon=pca_projection_reconstruction(original_data,erps,10)"
   ]
  },
  {
   "cell_type": "code",
   "execution_count": 16,
   "metadata": {},
   "outputs": [],
   "source": [
    "# error=erps-np.array(data_recon)\n",
    "# recon_error=[sum(np.linalg.norm(err,axis=1)) for err in error] "
   ]
  },
  {
   "cell_type": "code",
   "execution_count": 21,
   "metadata": {},
   "outputs": [],
   "source": [
    "def generate_rec_error(single_data,erp):\n",
    "    # generate reconstruction erros for boot strapp sample\n",
    "    reconstructed=pca_projection_reconstruction(trial_data=single_data,erp_data=erp,n_components=75)\n",
    "    error=erp-np.array(reconstructed)\n",
    "    recon_error=[sum(np.linalg.norm(err,axis=1)) for err in error]\n",
    "    return recon_error\n",
    "    "
   ]
  },
  {
   "cell_type": "code",
   "execution_count": 19,
   "metadata": {},
   "outputs": [],
   "source": [
    "def ci_data_selection(errors):\n",
    "    sorted_data=np.sort(errors)\n",
    "    l_limit= np.percentile(sorted_data,25)\n",
    "    u_limit=np.percentile(sorted_data,75)\n",
    "    id_selected=[]\n",
    "    for index , err in enumerate(errors):\n",
    "        if l_limit<=err and err<=u_limit:\n",
    "            id_selected.append(index)\n",
    "#         else:\n",
    "#             print(err)\n",
    "    return id_selected\n",
    "    "
   ]
  },
  {
   "cell_type": "code",
   "execution_count": 22,
   "metadata": {},
   "outputs": [
    {
     "name": "stderr",
     "output_type": "stream",
     "text": [
      "100%|██████████| 11/11 [00:44<00:00,  3.41s/it]\n"
     ]
    }
   ],
   "source": [
    "for sub in tqdm(data):\n",
    "    rec_error2=generate_rec_error(np.concatenate(data[sub][2]),data[sub][\"erp2\"])\n",
    "    index2=ci_data_selection(rec_error2)\n",
    "    data[sub][\"erp2_new\"]=np.array(data[sub][\"erp2\"])[index2]\n",
    "    \n",
    "    rec_error4=generate_rec_error(np.concatenate(data[sub][4]),data[sub][\"erp4\"])\n",
    "    index4=ci_data_selection(rec_error4)\n",
    "    data[sub][\"erp4_new\"]=np.array(data[sub][\"erp4\"])[index4]\n",
    "    \n",
    "    rec_error6=generate_rec_error(np.concatenate(data[sub][6]),data[sub][\"erp6\"])\n",
    "    index6=ci_data_selection(rec_error6)\n",
    "    data[sub][\"erp6_new\"]=np.array(data[sub][\"erp6\"])[index6]\n",
    "    \n",
    "    rec_error8=generate_rec_error(np.concatenate(data[sub][8]),data[sub][\"erp8\"])\n",
    "    index8=ci_data_selection(rec_error8)\n",
    "    data[sub][\"erp8_new\"]=np.array(data[sub][\"erp8\"])[index8]"
   ]
  },
  {
   "cell_type": "code",
   "execution_count": null,
   "metadata": {},
   "outputs": [],
   "source": [
    "from data_gen_may_2021 import topo_generator\n",
    "from \n"
   ]
  },
  {
   "cell_type": "code",
   "execution_count": null,
   "metadata": {},
   "outputs": [],
   "source": [
    "type(data)"
   ]
  },
  {
   "cell_type": "code",
   "execution_count": null,
   "metadata": {},
   "outputs": [],
   "source": [
    "plt.figure(figsize=(8,5))\n",
    "plt.plot(recon_error[1000:2000])\n",
    "plt.xlabel(\"Reconstruction error\"),plt.ylabel(\"Frequency\")\n",
    "plt.show()"
   ]
  },
  {
   "cell_type": "code",
   "execution_count": null,
   "metadata": {},
   "outputs": [],
   "source": [
    "info"
   ]
  }
 ],
 "metadata": {
  "kernelspec": {
   "display_name": "Python 3",
   "language": "python",
   "name": "python3"
  },
  "language_info": {
   "codemirror_mode": {
    "name": "ipython",
    "version": 3
   },
   "file_extension": ".py",
   "mimetype": "text/x-python",
   "name": "python",
   "nbconvert_exporter": "python",
   "pygments_lexer": "ipython3",
   "version": "3.7.7"
  }
 },
 "nbformat": 4,
 "nbformat_minor": 2
}
