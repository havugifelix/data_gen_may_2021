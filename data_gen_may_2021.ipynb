{
 "cells": [
  {
   "cell_type": "code",
   "execution_count": 6,
   "metadata": {},
   "outputs": [
    {
     "name": "stderr",
     "output_type": "stream",
     "text": [
      "  0%|                                                                                                                                                                                                                | 0/15 [00:00<?, ?it/s]<ipython-input-6-79ec7c544e35>:17: FutureWarning: The parameter `stim_channel` controlling the stim channel synthesis has not been specified. In 0.18 it defaults to True but will change to False in 0.19 (when no stim channel synthesis will be allowed) and be removed in 0.20; migrate code to use `stim_channel=False` and :func:`mne.events_from_annotations` or set `stim_channel=True` to avoid this warning.\n",
      "  files=mne.io.read_raw_cnt(file_path+\"/\"+file,montage=montage, preload=True);\n"
     ]
    },
    {
     "name": "stdout",
     "output_type": "stream",
     "text": [
      "Reading 0 ... 548274  =      0.000 ...  2193.096 secs...\n"
     ]
    },
    {
     "name": "stderr",
     "output_type": "stream",
     "text": [
      "<ipython-input-6-79ec7c544e35>:17: RuntimeWarning:   Could not parse meas date from the header. Setting to None.\n",
      "  files=mne.io.read_raw_cnt(file_path+\"/\"+file,montage=montage, preload=True);\n",
      "<ipython-input-6-79ec7c544e35>:17: RuntimeWarning: The following EEG sensors did not have a position specified in the selected montage: ['VEO', 'HEO', 'EKG', 'EMG', 'Trigger']. Their position has been left untouched.\n",
      "  files=mne.io.read_raw_cnt(file_path+\"/\"+file,montage=montage, preload=True);\n",
      "  7%|█████████████▎                                                                                                                                                                                          | 1/15 [00:07<01:50,  7.90s/it]"
     ]
    },
    {
     "name": "stdout",
     "output_type": "stream",
     "text": [
      "Reading 0 ... 525924  =      0.000 ...  2103.696 secs...\n"
     ]
    },
    {
     "name": "stderr",
     "output_type": "stream",
     "text": [
      "<ipython-input-6-79ec7c544e35>:17: FutureWarning: The parameter `stim_channel` controlling the stim channel synthesis has not been specified. In 0.18 it defaults to True but will change to False in 0.19 (when no stim channel synthesis will be allowed) and be removed in 0.20; migrate code to use `stim_channel=False` and :func:`mne.events_from_annotations` or set `stim_channel=True` to avoid this warning.\n",
      "  files=mne.io.read_raw_cnt(file_path+\"/\"+file,montage=montage, preload=True);\n",
      "<ipython-input-6-79ec7c544e35>:17: RuntimeWarning:   Could not parse meas date from the header. Setting to None.\n",
      "  files=mne.io.read_raw_cnt(file_path+\"/\"+file,montage=montage, preload=True);\n",
      "<ipython-input-6-79ec7c544e35>:17: RuntimeWarning: The following EEG sensors did not have a position specified in the selected montage: ['VEO', 'HEO', 'EKG', 'EMG', 'Trigger']. Their position has been left untouched.\n",
      "  files=mne.io.read_raw_cnt(file_path+\"/\"+file,montage=montage, preload=True);\n",
      " 13%|██████████████████████████▋                                                                                                                                                                             | 2/15 [00:15<01:40,  7.75s/it]"
     ]
    },
    {
     "name": "stdout",
     "output_type": "stream",
     "text": [
      "Reading 0 ... 530099  =      0.000 ...  2120.396 secs...\n"
     ]
    },
    {
     "name": "stderr",
     "output_type": "stream",
     "text": [
      "<ipython-input-6-79ec7c544e35>:17: FutureWarning: The parameter `stim_channel` controlling the stim channel synthesis has not been specified. In 0.18 it defaults to True but will change to False in 0.19 (when no stim channel synthesis will be allowed) and be removed in 0.20; migrate code to use `stim_channel=False` and :func:`mne.events_from_annotations` or set `stim_channel=True` to avoid this warning.\n",
      "  files=mne.io.read_raw_cnt(file_path+\"/\"+file,montage=montage, preload=True);\n",
      "<ipython-input-6-79ec7c544e35>:17: RuntimeWarning:   Could not parse meas date from the header. Setting to None.\n",
      "  files=mne.io.read_raw_cnt(file_path+\"/\"+file,montage=montage, preload=True);\n",
      "<ipython-input-6-79ec7c544e35>:17: RuntimeWarning: The following EEG sensors did not have a position specified in the selected montage: ['VEO', 'HEO', 'EKG', 'EMG', 'Trigger']. Their position has been left untouched.\n",
      "  files=mne.io.read_raw_cnt(file_path+\"/\"+file,montage=montage, preload=True);\n",
      " 20%|████████████████████████████████████████                                                                                                                                                                | 3/15 [00:23<01:32,  7.75s/it]"
     ]
    },
    {
     "name": "stdout",
     "output_type": "stream",
     "text": [
      "Reading 0 ... 500824  =      0.000 ...  2003.296 secs...\n"
     ]
    },
    {
     "name": "stderr",
     "output_type": "stream",
     "text": [
      "<ipython-input-6-79ec7c544e35>:17: FutureWarning: The parameter `stim_channel` controlling the stim channel synthesis has not been specified. In 0.18 it defaults to True but will change to False in 0.19 (when no stim channel synthesis will be allowed) and be removed in 0.20; migrate code to use `stim_channel=False` and :func:`mne.events_from_annotations` or set `stim_channel=True` to avoid this warning.\n",
      "  files=mne.io.read_raw_cnt(file_path+\"/\"+file,montage=montage, preload=True);\n",
      "<ipython-input-6-79ec7c544e35>:17: RuntimeWarning: The following EEG sensors did not have a position specified in the selected montage: ['VEO', 'HEO', 'EKG', 'EMG', 'Trigger']. Their position has been left untouched.\n",
      "  files=mne.io.read_raw_cnt(file_path+\"/\"+file,montage=montage, preload=True);\n",
      " 27%|█████████████████████████████████████████████████████▎                                                                                                                                                  | 4/15 [00:30<01:22,  7.54s/it]"
     ]
    },
    {
     "name": "stdout",
     "output_type": "stream",
     "text": [
      "Reading 0 ... 502949  =      0.000 ...  2011.796 secs...\n"
     ]
    },
    {
     "name": "stderr",
     "output_type": "stream",
     "text": [
      "<ipython-input-6-79ec7c544e35>:17: FutureWarning: The parameter `stim_channel` controlling the stim channel synthesis has not been specified. In 0.18 it defaults to True but will change to False in 0.19 (when no stim channel synthesis will be allowed) and be removed in 0.20; migrate code to use `stim_channel=False` and :func:`mne.events_from_annotations` or set `stim_channel=True` to avoid this warning.\n",
      "  files=mne.io.read_raw_cnt(file_path+\"/\"+file,montage=montage, preload=True);\n",
      "<ipython-input-6-79ec7c544e35>:17: RuntimeWarning:   Could not parse meas date from the header. Setting to None.\n",
      "  files=mne.io.read_raw_cnt(file_path+\"/\"+file,montage=montage, preload=True);\n",
      "<ipython-input-6-79ec7c544e35>:17: RuntimeWarning: The following EEG sensors did not have a position specified in the selected montage: ['VEO', 'HEO', 'EKG', 'EMG', 'Trigger']. Their position has been left untouched.\n",
      "  files=mne.io.read_raw_cnt(file_path+\"/\"+file,montage=montage, preload=True);\n",
      " 33%|██████████████████████████████████████████████████████████████████▋                                                                                                                                     | 5/15 [00:37<01:13,  7.40s/it]"
     ]
    },
    {
     "name": "stdout",
     "output_type": "stream",
     "text": [
      "Reading 0 ... 527249  =      0.000 ...  2108.996 secs...\n"
     ]
    },
    {
     "name": "stderr",
     "output_type": "stream",
     "text": [
      "<ipython-input-6-79ec7c544e35>:17: FutureWarning: The parameter `stim_channel` controlling the stim channel synthesis has not been specified. In 0.18 it defaults to True but will change to False in 0.19 (when no stim channel synthesis will be allowed) and be removed in 0.20; migrate code to use `stim_channel=False` and :func:`mne.events_from_annotations` or set `stim_channel=True` to avoid this warning.\n",
      "  files=mne.io.read_raw_cnt(file_path+\"/\"+file,montage=montage, preload=True);\n",
      "<ipython-input-6-79ec7c544e35>:17: RuntimeWarning:   Could not parse meas date from the header. Setting to None.\n",
      "  files=mne.io.read_raw_cnt(file_path+\"/\"+file,montage=montage, preload=True);\n",
      "<ipython-input-6-79ec7c544e35>:17: RuntimeWarning: The following EEG sensors did not have a position specified in the selected montage: ['VEO', 'HEO', 'EKG', 'EMG', 'Trigger']. Their position has been left untouched.\n",
      "  files=mne.io.read_raw_cnt(file_path+\"/\"+file,montage=montage, preload=True);\n",
      " 40%|████████████████████████████████████████████████████████████████████████████████                                                                                                                        | 6/15 [00:44<01:06,  7.41s/it]"
     ]
    },
    {
     "name": "stdout",
     "output_type": "stream",
     "text": [
      "Reading 0 ... 501649  =      0.000 ...  2006.596 secs...\n"
     ]
    },
    {
     "name": "stderr",
     "output_type": "stream",
     "text": [
      "<ipython-input-6-79ec7c544e35>:17: FutureWarning: The parameter `stim_channel` controlling the stim channel synthesis has not been specified. In 0.18 it defaults to True but will change to False in 0.19 (when no stim channel synthesis will be allowed) and be removed in 0.20; migrate code to use `stim_channel=False` and :func:`mne.events_from_annotations` or set `stim_channel=True` to avoid this warning.\n",
      "  files=mne.io.read_raw_cnt(file_path+\"/\"+file,montage=montage, preload=True);\n",
      "<ipython-input-6-79ec7c544e35>:17: RuntimeWarning:   Could not parse meas date from the header. Setting to None.\n",
      "  files=mne.io.read_raw_cnt(file_path+\"/\"+file,montage=montage, preload=True);\n",
      "<ipython-input-6-79ec7c544e35>:17: RuntimeWarning: The following EEG sensors did not have a position specified in the selected montage: ['VEO', 'HEO', 'EKG', 'EMG', 'Trigger']. Their position has been left untouched.\n",
      "  files=mne.io.read_raw_cnt(file_path+\"/\"+file,montage=montage, preload=True);\n",
      " 47%|█████████████████████████████████████████████████████████████████████████████████████████████▎                                                                                                          | 7/15 [00:51<00:58,  7.30s/it]"
     ]
    },
    {
     "name": "stdout",
     "output_type": "stream",
     "text": [
      "Reading 0 ... 532349  =      0.000 ...  2129.396 secs...\n"
     ]
    },
    {
     "name": "stderr",
     "output_type": "stream",
     "text": [
      "<ipython-input-6-79ec7c544e35>:17: FutureWarning: The parameter `stim_channel` controlling the stim channel synthesis has not been specified. In 0.18 it defaults to True but will change to False in 0.19 (when no stim channel synthesis will be allowed) and be removed in 0.20; migrate code to use `stim_channel=False` and :func:`mne.events_from_annotations` or set `stim_channel=True` to avoid this warning.\n",
      "  files=mne.io.read_raw_cnt(file_path+\"/\"+file,montage=montage, preload=True);\n",
      "<ipython-input-6-79ec7c544e35>:17: RuntimeWarning: The following EEG sensors did not have a position specified in the selected montage: ['VEO', 'HEO', 'EKG', 'EMG', 'Trigger']. Their position has been left untouched.\n",
      "  files=mne.io.read_raw_cnt(file_path+\"/\"+file,montage=montage, preload=True);\n",
      " 53%|██████████████████████████████████████████████████████████████████████████████████████████████████████████▋                                                                                             | 8/15 [00:59<00:51,  7.40s/it]"
     ]
    },
    {
     "name": "stdout",
     "output_type": "stream",
     "text": [
      "Reading 0 ... 503399  =      0.000 ...  2013.596 secs...\n"
     ]
    },
    {
     "name": "stderr",
     "output_type": "stream",
     "text": [
      "<ipython-input-6-79ec7c544e35>:17: FutureWarning: The parameter `stim_channel` controlling the stim channel synthesis has not been specified. In 0.18 it defaults to True but will change to False in 0.19 (when no stim channel synthesis will be allowed) and be removed in 0.20; migrate code to use `stim_channel=False` and :func:`mne.events_from_annotations` or set `stim_channel=True` to avoid this warning.\n",
      "  files=mne.io.read_raw_cnt(file_path+\"/\"+file,montage=montage, preload=True);\n",
      "<ipython-input-6-79ec7c544e35>:17: RuntimeWarning:   Could not parse meas date from the header. Setting to None.\n",
      "  files=mne.io.read_raw_cnt(file_path+\"/\"+file,montage=montage, preload=True);\n",
      "<ipython-input-6-79ec7c544e35>:17: RuntimeWarning: The following EEG sensors did not have a position specified in the selected montage: ['VEO', 'HEO', 'EKG', 'EMG', 'Trigger']. Their position has been left untouched.\n",
      "  files=mne.io.read_raw_cnt(file_path+\"/\"+file,montage=montage, preload=True);\n",
      " 60%|████████████████████████████████████████████████████████████████████████████████████████████████████████████████████████                                                                                | 9/15 [01:06<00:43,  7.30s/it]"
     ]
    },
    {
     "name": "stdout",
     "output_type": "stream",
     "text": [
      "Reading 0 ... 524724  =      0.000 ...  2098.896 secs...\n"
     ]
    },
    {
     "name": "stderr",
     "output_type": "stream",
     "text": [
      "<ipython-input-6-79ec7c544e35>:17: FutureWarning: The parameter `stim_channel` controlling the stim channel synthesis has not been specified. In 0.18 it defaults to True but will change to False in 0.19 (when no stim channel synthesis will be allowed) and be removed in 0.20; migrate code to use `stim_channel=False` and :func:`mne.events_from_annotations` or set `stim_channel=True` to avoid this warning.\n",
      "  files=mne.io.read_raw_cnt(file_path+\"/\"+file,montage=montage, preload=True);\n",
      "<ipython-input-6-79ec7c544e35>:17: RuntimeWarning:   Could not parse meas date from the header. Setting to None.\n",
      "  files=mne.io.read_raw_cnt(file_path+\"/\"+file,montage=montage, preload=True);\n",
      "<ipython-input-6-79ec7c544e35>:17: RuntimeWarning: The following EEG sensors did not have a position specified in the selected montage: ['VEO', 'HEO', 'EKG', 'EMG', 'Trigger']. Their position has been left untouched.\n",
      "  files=mne.io.read_raw_cnt(file_path+\"/\"+file,montage=montage, preload=True);\n",
      " 67%|████████████████████████████████████████████████████████████████████████████████████████████████████████████████████████████████████▋                                                                  | 10/15 [01:13<00:36,  7.32s/it]"
     ]
    },
    {
     "name": "stdout",
     "output_type": "stream",
     "text": [
      "Reading 0 ... 491024  =      0.000 ...  1964.096 secs...\n"
     ]
    },
    {
     "name": "stderr",
     "output_type": "stream",
     "text": [
      "<ipython-input-6-79ec7c544e35>:17: FutureWarning: The parameter `stim_channel` controlling the stim channel synthesis has not been specified. In 0.18 it defaults to True but will change to False in 0.19 (when no stim channel synthesis will be allowed) and be removed in 0.20; migrate code to use `stim_channel=False` and :func:`mne.events_from_annotations` or set `stim_channel=True` to avoid this warning.\n",
      "  files=mne.io.read_raw_cnt(file_path+\"/\"+file,montage=montage, preload=True);\n",
      "<ipython-input-6-79ec7c544e35>:17: RuntimeWarning:   Could not parse meas date from the header. Setting to None.\n",
      "  files=mne.io.read_raw_cnt(file_path+\"/\"+file,montage=montage, preload=True);\n",
      "<ipython-input-6-79ec7c544e35>:17: RuntimeWarning: The following EEG sensors did not have a position specified in the selected montage: ['VEO', 'HEO', 'EKG', 'EMG', 'Trigger']. Their position has been left untouched.\n",
      "  files=mne.io.read_raw_cnt(file_path+\"/\"+file,montage=montage, preload=True);\n",
      " 73%|█████████████████████████████████████████████████████████████████████████████████████████████████████████████████████████████████████████████████▉                                                     | 11/15 [01:20<00:28,  7.21s/it]"
     ]
    },
    {
     "name": "stdout",
     "output_type": "stream",
     "text": [
      "Reading 0 ... 506474  =      0.000 ...  2025.896 secs...\n"
     ]
    },
    {
     "name": "stderr",
     "output_type": "stream",
     "text": [
      "<ipython-input-6-79ec7c544e35>:17: FutureWarning: The parameter `stim_channel` controlling the stim channel synthesis has not been specified. In 0.18 it defaults to True but will change to False in 0.19 (when no stim channel synthesis will be allowed) and be removed in 0.20; migrate code to use `stim_channel=False` and :func:`mne.events_from_annotations` or set `stim_channel=True` to avoid this warning.\n",
      "  files=mne.io.read_raw_cnt(file_path+\"/\"+file,montage=montage, preload=True);\n",
      "<ipython-input-6-79ec7c544e35>:17: RuntimeWarning: The following EEG sensors did not have a position specified in the selected montage: ['VEO', 'HEO', 'EKG', 'EMG', 'Trigger']. Their position has been left untouched.\n",
      "  files=mne.io.read_raw_cnt(file_path+\"/\"+file,montage=montage, preload=True);\n",
      " 80%|███████████████████████████████████████████████████████████████████████████████████████████████████████████████████████████████████████████████████████████████▏                                       | 12/15 [01:27<00:21,  7.18s/it]"
     ]
    },
    {
     "name": "stdout",
     "output_type": "stream",
     "text": [
      "Reading 0 ... 518199  =      0.000 ...  2072.796 secs...\n"
     ]
    },
    {
     "name": "stderr",
     "output_type": "stream",
     "text": [
      "<ipython-input-6-79ec7c544e35>:17: FutureWarning: The parameter `stim_channel` controlling the stim channel synthesis has not been specified. In 0.18 it defaults to True but will change to False in 0.19 (when no stim channel synthesis will be allowed) and be removed in 0.20; migrate code to use `stim_channel=False` and :func:`mne.events_from_annotations` or set `stim_channel=True` to avoid this warning.\n",
      "  files=mne.io.read_raw_cnt(file_path+\"/\"+file,montage=montage, preload=True);\n",
      "<ipython-input-6-79ec7c544e35>:17: RuntimeWarning:   Could not parse meas date from the header. Setting to None.\n",
      "  files=mne.io.read_raw_cnt(file_path+\"/\"+file,montage=montage, preload=True);\n",
      "<ipython-input-6-79ec7c544e35>:17: RuntimeWarning: The following EEG sensors did not have a position specified in the selected montage: ['VEO', 'HEO', 'EKG', 'EMG', 'Trigger']. Their position has been left untouched.\n",
      "  files=mne.io.read_raw_cnt(file_path+\"/\"+file,montage=montage, preload=True);\n",
      " 87%|████████████████████████████████████████████████████████████████████████████████████████████████████████████████████████████████████████████████████████████████████████████▍                          | 13/15 [01:35<00:14,  7.22s/it]"
     ]
    },
    {
     "name": "stdout",
     "output_type": "stream",
     "text": [
      "Reading 0 ... 535774  =      0.000 ...  2143.096 secs...\n"
     ]
    },
    {
     "name": "stderr",
     "output_type": "stream",
     "text": [
      "<ipython-input-6-79ec7c544e35>:17: FutureWarning: The parameter `stim_channel` controlling the stim channel synthesis has not been specified. In 0.18 it defaults to True but will change to False in 0.19 (when no stim channel synthesis will be allowed) and be removed in 0.20; migrate code to use `stim_channel=False` and :func:`mne.events_from_annotations` or set `stim_channel=True` to avoid this warning.\n",
      "  files=mne.io.read_raw_cnt(file_path+\"/\"+file,montage=montage, preload=True);\n",
      "<ipython-input-6-79ec7c544e35>:17: RuntimeWarning:   Could not parse meas date from the header. Setting to None.\n",
      "  files=mne.io.read_raw_cnt(file_path+\"/\"+file,montage=montage, preload=True);\n",
      "<ipython-input-6-79ec7c544e35>:17: RuntimeWarning: The following EEG sensors did not have a position specified in the selected montage: ['VEO', 'HEO', 'EKG', 'EMG', 'Trigger']. Their position has been left untouched.\n",
      "  files=mne.io.read_raw_cnt(file_path+\"/\"+file,montage=montage, preload=True);\n",
      " 93%|█████████████████████████████████████████████████████████████████████████████████████████████████████████████████████████████████████████████████████████████████████████████████████████▋             | 14/15 [01:42<00:07,  7.31s/it]"
     ]
    },
    {
     "name": "stdout",
     "output_type": "stream",
     "text": [
      "Reading 0 ... 523149  =      0.000 ...  2092.596 secs...\n"
     ]
    },
    {
     "name": "stderr",
     "output_type": "stream",
     "text": [
      "<ipython-input-6-79ec7c544e35>:17: FutureWarning: The parameter `stim_channel` controlling the stim channel synthesis has not been specified. In 0.18 it defaults to True but will change to False in 0.19 (when no stim channel synthesis will be allowed) and be removed in 0.20; migrate code to use `stim_channel=False` and :func:`mne.events_from_annotations` or set `stim_channel=True` to avoid this warning.\n",
      "  files=mne.io.read_raw_cnt(file_path+\"/\"+file,montage=montage, preload=True);\n",
      "<ipython-input-6-79ec7c544e35>:17: RuntimeWarning:   Could not parse meas date from the header. Setting to None.\n",
      "  files=mne.io.read_raw_cnt(file_path+\"/\"+file,montage=montage, preload=True);\n",
      "<ipython-input-6-79ec7c544e35>:17: RuntimeWarning: The following EEG sensors did not have a position specified in the selected montage: ['VEO', 'HEO', 'EKG', 'EMG', 'Trigger']. Their position has been left untouched.\n",
      "  files=mne.io.read_raw_cnt(file_path+\"/\"+file,montage=montage, preload=True);\n",
      "100%|███████████████████████████████████████████████████████████████████████████████████████████████████████████████████████████████████████████████████████████████████████████████████████████████████████| 15/15 [01:49<00:00,  7.32s/it]\n",
      "100%|██████████████████████████████████████████████████████████████████████████████████████████████████████████████████████████████████████████████████████████████████████████████████████████████████████| 15/15 [00:00<00:00, 205.62it/s]\n"
     ]
    }
   ],
   "source": [
    "import mne\n",
    "import os\n",
    "from os.path import abspath\n",
    "import matplotlib.pyplot as plt\n",
    "import numpy as np\n",
    "import pandas as pd\n",
    "from mne.time_frequency import psd_welch\n",
    "from tqdm import tqdm\n",
    "import itertools\n",
    "from multiprocessing import Process\n",
    "file_path=r\"EEG data\\Visual\"\n",
    "filename=os.listdir(file_path)\n",
    "path_montage=r\"E:\\summer_2021_research\\data_generation\\montage\"\n",
    "montage=mne.channels.read_montage(path_montage+\"\\\\\"+\"neuroscan64ch.loc\")\n",
    "raw_data=[]\n",
    "for file in tqdm(filename):\n",
    "    files=mne.io.read_raw_cnt(file_path+\"/\"+file,montage=montage, preload=True);\n",
    "    raw_data.append(files)\n",
    "\n",
    "## Selecting channels to include\n",
    "good_ch= mne.pick_channels(raw_data[0].info['ch_names'], include=[],\n",
    "                        exclude=[\"EKG\",\"EMG\",'VEO','HEO','Trigger'])\n",
    "mne.pick_info(raw_data[0].info,sel=good_ch,copy=False)\n",
    "for f in tqdm(raw_data):\n",
    "    mne.pick_info(f.info,sel=good_ch,copy=False)\n",
    "    f.set_montage(montage)\n",
    "\n"
   ]
  },
  {
   "cell_type": "code",
   "execution_count": null,
   "metadata": {},
   "outputs": [],
   "source": []
  }
 ],
 "metadata": {
  "kernelspec": {
   "display_name": "Python 3",
   "language": "python",
   "name": "python3"
  },
  "language_info": {
   "codemirror_mode": {
    "name": "ipython",
    "version": 3
   },
   "file_extension": ".py",
   "mimetype": "text/x-python",
   "name": "python",
   "nbconvert_exporter": "python",
   "pygments_lexer": "ipython3",
   "version": "3.8.5"
  }
 },
 "nbformat": 4,
 "nbformat_minor": 4
}
